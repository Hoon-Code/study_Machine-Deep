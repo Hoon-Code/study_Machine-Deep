{
  "nbformat": 4,
  "nbformat_minor": 0,
  "metadata": {
    "colab": {
      "provenance": [],
      "authorship_tag": "ABX9TyOuZOjp+bOIvPmEaVHmSzf7",
      "include_colab_link": true
    },
    "kernelspec": {
      "name": "python3",
      "display_name": "Python 3"
    },
    "language_info": {
      "name": "python"
    }
  },
  "cells": [
    {
      "cell_type": "markdown",
      "metadata": {
        "id": "view-in-github",
        "colab_type": "text"
      },
      "source": [
        "<a href=\"https://colab.research.google.com/github/Hoon-Code/study_Machine-Deep/blob/main/study_md_day3.ipynb\" target=\"_parent\"><img src=\"https://colab.research.google.com/assets/colab-badge.svg\" alt=\"Open In Colab\"/></a>"
      ]
    },
    {
      "cell_type": "code",
      "execution_count": 1,
      "metadata": {
        "id": "3Hn5sjAJJdmb"
      },
      "outputs": [],
      "source": [
        "#column_stack 함수를 사용하면 열방향으로 각각 나열해 합쳐서 보여줌"
      ]
    },
    {
      "cell_type": "code",
      "source": [
        "#"
      ],
      "metadata": {
        "id": "7SAfdC4ZM9ik"
      },
      "execution_count": null,
      "outputs": []
    }
  ]
}